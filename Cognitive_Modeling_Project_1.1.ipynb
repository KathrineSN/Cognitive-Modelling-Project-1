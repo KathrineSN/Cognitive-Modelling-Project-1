{
 "cells": [
  {
   "cell_type": "markdown",
   "metadata": {
    "id": "WMNOtWtouv7c"
   },
   "source": [
    "# 4: Data pre-processing"
   ]
  },
  {
   "cell_type": "code",
   "execution_count": 2,
   "metadata": {
    "colab": {
     "base_uri": "https://localhost:8080/"
    },
    "id": "5Zvm_C58Aug2",
    "outputId": "93130185-f628-4487-b5a4-a2cfb0f60e01"
   },
   "outputs": [
    {
     "name": "stdout",
     "output_type": "stream",
     "text": [
      "3962\n",
      "3933\n"
     ]
    },
    {
     "name": "stderr",
     "output_type": "stream",
     "text": [
      "C:\\Users\\kathr\\AppData\\Local\\Temp/ipykernel_5960/2759227173.py:25: SettingWithCopyWarning: \n",
      "A value is trying to be set on a copy of a slice from a DataFrame\n",
      "\n",
      "See the caveats in the documentation: https://pandas.pydata.org/pandas-docs/stable/user_guide/indexing.html#returning-a-view-versus-a-copy\n",
      "  df['score'][df['label'] == \"Smiling\"] = df['SmileNorm']\n"
     ]
    }
   ],
   "source": [
    "# Importing dependencies\n",
    "import numpy as np\n",
    "import pandas as pd\n",
    "import matplotlib.pyplot as plt\n",
    "\n",
    "# Loading the data\n",
    "df = pd.read_csv('results.txt')\n",
    "df.columns = ['id', 'num', 'image', 'label', 'time']\n",
    "df.drop([\"num\"], axis=1, inplace=True)\n",
    "\n",
    "# Removal of outliers\n",
    "print(len(df))\n",
    "df.drop(df[df['time'] < 0.2].index, inplace=True)\n",
    "df.drop(df[df['time'] > 3].index, inplace=True)\n",
    "print(len(df))\n",
    "\n",
    "# Normalization of reaction times for each person\n",
    "df['mean'] = df.groupby('id')['time'].transform('mean')\n",
    "df['min'] = df.groupby('id')['time'].transform('min')\n",
    "df['max'] = df.groupby('id')['time'].transform('max')\n",
    "df['normalized'] = (df['time']-df['min']) / (2*(df['max'] - df['min']))\n",
    "\n",
    "df['SmileNorm'] = 1-df['normalized']\n",
    "df['score'] = df['normalized']\n",
    "df['score'][df['label'] == \"Smiling\"] = df['SmileNorm']"
   ]
  },
  {
   "cell_type": "code",
   "execution_count": 2,
   "metadata": {
    "colab": {
     "base_uri": "https://localhost:8080/",
     "height": 417
    },
    "id": "b3fEh628tuyj",
    "outputId": "506f2cec-ffed-48eb-9dcf-81b7f4b0944f"
   },
   "outputs": [
    {
     "data": {
      "text/html": [
       "<div>\n",
       "<style scoped>\n",
       "    .dataframe tbody tr th:only-of-type {\n",
       "        vertical-align: middle;\n",
       "    }\n",
       "\n",
       "    .dataframe tbody tr th {\n",
       "        vertical-align: top;\n",
       "    }\n",
       "\n",
       "    .dataframe thead th {\n",
       "        text-align: right;\n",
       "    }\n",
       "</style>\n",
       "<table border=\"1\" class=\"dataframe\">\n",
       "  <thead>\n",
       "    <tr style=\"text-align: right;\">\n",
       "      <th></th>\n",
       "      <th>id</th>\n",
       "      <th>image</th>\n",
       "      <th>label</th>\n",
       "      <th>time</th>\n",
       "      <th>mean</th>\n",
       "      <th>min</th>\n",
       "      <th>max</th>\n",
       "      <th>normalized</th>\n",
       "      <th>SmileNorm</th>\n",
       "      <th>score</th>\n",
       "    </tr>\n",
       "  </thead>\n",
       "  <tbody>\n",
       "    <tr>\n",
       "      <th>0</th>\n",
       "      <td>7</td>\n",
       "      <td>55_1_0_20170103183939755.jpg.chip.jpg</td>\n",
       "      <td>Smiling</td>\n",
       "      <td>0.7776</td>\n",
       "      <td>0.826893</td>\n",
       "      <td>0.4476</td>\n",
       "      <td>2.2428</td>\n",
       "      <td>0.091912</td>\n",
       "      <td>0.908088</td>\n",
       "      <td>0.908088</td>\n",
       "    </tr>\n",
       "    <tr>\n",
       "      <th>1</th>\n",
       "      <td>7</td>\n",
       "      <td>42_1_0_20170105173320357.jpg.chip.jpg</td>\n",
       "      <td>Smiling</td>\n",
       "      <td>0.5956</td>\n",
       "      <td>0.826893</td>\n",
       "      <td>0.4476</td>\n",
       "      <td>2.2428</td>\n",
       "      <td>0.041221</td>\n",
       "      <td>0.958779</td>\n",
       "      <td>0.958779</td>\n",
       "    </tr>\n",
       "    <tr>\n",
       "      <th>2</th>\n",
       "      <td>7</td>\n",
       "      <td>26_1_1_20170112205848764.jpg.chip.jpg</td>\n",
       "      <td>Smiling</td>\n",
       "      <td>0.6308</td>\n",
       "      <td>0.826893</td>\n",
       "      <td>0.4476</td>\n",
       "      <td>2.2428</td>\n",
       "      <td>0.051025</td>\n",
       "      <td>0.948975</td>\n",
       "      <td>0.948975</td>\n",
       "    </tr>\n",
       "    <tr>\n",
       "      <th>3</th>\n",
       "      <td>7</td>\n",
       "      <td>28_0_3_20170113153014880.jpg.chip.jpg</td>\n",
       "      <td>Not smiling</td>\n",
       "      <td>0.6131</td>\n",
       "      <td>0.826893</td>\n",
       "      <td>0.4476</td>\n",
       "      <td>2.2428</td>\n",
       "      <td>0.046095</td>\n",
       "      <td>0.953905</td>\n",
       "      <td>0.046095</td>\n",
       "    </tr>\n",
       "    <tr>\n",
       "      <th>4</th>\n",
       "      <td>7</td>\n",
       "      <td>50_0_0_20170113184603160.jpg.chip.jpg</td>\n",
       "      <td>Not smiling</td>\n",
       "      <td>0.7651</td>\n",
       "      <td>0.826893</td>\n",
       "      <td>0.4476</td>\n",
       "      <td>2.2428</td>\n",
       "      <td>0.088430</td>\n",
       "      <td>0.911570</td>\n",
       "      <td>0.088430</td>\n",
       "    </tr>\n",
       "  </tbody>\n",
       "</table>\n",
       "</div>"
      ],
      "text/plain": [
       "   id                                  image        label    time      mean  \\\n",
       "0   7  55_1_0_20170103183939755.jpg.chip.jpg      Smiling  0.7776  0.826893   \n",
       "1   7  42_1_0_20170105173320357.jpg.chip.jpg      Smiling  0.5956  0.826893   \n",
       "2   7  26_1_1_20170112205848764.jpg.chip.jpg      Smiling  0.6308  0.826893   \n",
       "3   7  28_0_3_20170113153014880.jpg.chip.jpg  Not smiling  0.6131  0.826893   \n",
       "4   7  50_0_0_20170113184603160.jpg.chip.jpg  Not smiling  0.7651  0.826893   \n",
       "\n",
       "      min     max  normalized  SmileNorm     score  \n",
       "0  0.4476  2.2428    0.091912   0.908088  0.908088  \n",
       "1  0.4476  2.2428    0.041221   0.958779  0.958779  \n",
       "2  0.4476  2.2428    0.051025   0.948975  0.948975  \n",
       "3  0.4476  2.2428    0.046095   0.953905  0.046095  \n",
       "4  0.4476  2.2428    0.088430   0.911570  0.088430  "
      ]
     },
     "execution_count": 2,
     "metadata": {},
     "output_type": "execute_result"
    }
   ],
   "source": [
    "df.head()"
   ]
  },
  {
   "cell_type": "code",
   "execution_count": 3,
   "metadata": {
    "colab": {
     "base_uri": "https://localhost:8080/",
     "height": 313
    },
    "id": "m7BP3YkCaHyo",
    "outputId": "038be9bf-ce54-4b49-b8ca-71fa1bea73c9"
   },
   "outputs": [
    {
     "data": {
      "text/plain": [
       "Text(0.5, 0, 'Index')"
      ]
     },
     "execution_count": 3,
     "metadata": {},
     "output_type": "execute_result"
    },
    {
     "data": {
      "image/png": "[encoded data removed]",
      "text/plain": [
       "<Figure size 432x288 with 1 Axes>"
      ]
     },
     "metadata": {
      "needs_background": "light"
     },
     "output_type": "display_data"
    }
   ],
   "source": [
    "# Plotting histogram of index values\n",
    "plt.title('Histogram of Index Values')\n",
    "plt.hist(df['score'], bins = 80)\n",
    "plt.xlabel('Index')"
   ]
  },
  {
   "cell_type": "code",
   "execution_count": 4,
   "metadata": {
    "colab": {
     "base_uri": "https://localhost:8080/",
     "height": 269
    },
    "id": "TsiazUgexdx_",
    "outputId": "c831d721-e33d-48de-cd02-cce37ae4b6de"
   },
   "outputs": [
    {
     "data": {
      "text/plain": [
       "<AxesSubplot:xlabel='id', ylabel='normalized'>"
      ]
     },
     "execution_count": 4,
     "metadata": {},
     "output_type": "execute_result"
    },
    {
     "data": {
      "image/png": "[encoded data removed]",
      "text/plain": [
       "<Figure size 432x288 with 2 Axes>"
      ]
     },
     "metadata": {
      "needs_background": "light"
     },
     "output_type": "display_data"
    }
   ],
   "source": [
    "df.plot.scatter(x='id', y='normalized', c=\"id\", cmap=\"tab20b\")"
   ]
  },
  {
   "cell_type": "code",
   "execution_count": 5,
   "metadata": {
    "colab": {
     "base_uri": "https://localhost:8080/",
     "height": 867
    },
    "id": "xDAHF3sIAKKj",
    "outputId": "aaaac0e5-ed70-4649-9f22-b52e168d79dc"
   },
   "outputs": [],
   "source": [
    "#df.plot.scatter(x='num', y='normalized', c=\"id\", cmap=\"tab20b\", figsize=(15, 15))"
   ]
  },
  {
   "cell_type": "code",
   "execution_count": 6,
   "metadata": {
    "colab": {
     "base_uri": "https://localhost:8080/",
     "height": 269
    },
    "id": "ooyHYkpXAUo_",
    "outputId": "e07c2b69-eb69-4421-8d84-be1ad94e08c8"
   },
   "outputs": [
    {
     "data": {
      "text/plain": [
       "<AxesSubplot:xlabel='label', ylabel='normalized'>"
      ]
     },
     "execution_count": 6,
     "metadata": {},
     "output_type": "execute_result"
    },
    {
     "data": {
      "image/png": "[encoded data removed]",
      "text/plain": [
       "<Figure size 432x288 with 2 Axes>"
      ]
     },
     "metadata": {
      "needs_background": "light"
     },
     "output_type": "display_data"
    }
   ],
   "source": [
    "df.plot.scatter(x='label', y='normalized', c=\"id\", cmap=\"tab20b\")"
   ]
  },
  {
   "cell_type": "code",
   "execution_count": 7,
   "metadata": {
    "colab": {
     "base_uri": "https://localhost:8080/",
     "height": 271
    },
    "id": "fFnLAsxWEh-8",
    "outputId": "be849b32-bdae-4cce-9a97-2d0f1673f20f"
   },
   "outputs": [
    {
     "data": {
      "text/plain": [
       "<AxesSubplot:xlabel='id', ylabel='normalized'>"
      ]
     },
     "execution_count": 7,
     "metadata": {},
     "output_type": "execute_result"
    },
    {
     "data": {
      "image/png": "[encoded data removed]",
      "text/plain": [
       "<Figure size 432x288 with 2 Axes>"
      ]
     },
     "metadata": {
      "needs_background": "light"
     },
     "output_type": "display_data"
    }
   ],
   "source": [
    "df.plot.hexbin(x='id', y='normalized', gridsize=20)"
   ]
  },
  {
   "cell_type": "code",
   "execution_count": 8,
   "metadata": {
    "colab": {
     "base_uri": "https://localhost:8080/",
     "height": 411
    },
    "id": "h23c9mPcFeCt",
    "outputId": "c34e50b8-9129-49be-e8d6-ef59ec10ee12"
   },
   "outputs": [
    {
     "name": "stderr",
     "output_type": "stream",
     "text": [
      "<ipython-input-8-16eda7219f33>:1: DeprecationWarning: The default dtype for empty Series will be 'object' instead of 'float64' in a future version. Specify a dtype explicitly to silence this warning.\n",
      "  series = pd.Series(index=['id','normalized'], name=\"series\")\n",
      "C:\\ProgramData\\Anaconda3\\lib\\site-packages\\pandas\\plotting\\_matplotlib\\core.py:1583: MatplotlibDeprecationWarning: normalize=None does not normalize if the sum is less than 1 but this behavior is deprecated since 3.3 until two minor releases later. After the deprecation period the default value will be normalize=True. To prevent normalization pass normalize=False \n",
      "  results = ax.pie(y, labels=blabels, **kwds)\n"
     ]
    },
    {
     "data": {
      "image/png": "[encoded data removed]",
      "text/plain": [
       "<Figure size 432x432 with 1 Axes>"
      ]
     },
     "metadata": {},
     "output_type": "display_data"
    }
   ],
   "source": [
    "series = pd.Series(index=['id','normalized'], name=\"series\")\n",
    "series.plot.pie(figsize=(6, 6));"
   ]
  },
  {
   "cell_type": "markdown",
   "metadata": {
    "id": "Dsf1ibLesS3H"
   },
   "source": [
    "# 5: PCA and feature selection"
   ]
  },
  {
   "cell_type": "code",
   "execution_count": 4,
   "metadata": {
    "id": "W4JGfC4_bdhl"
   },
   "outputs": [],
   "source": [
    "# import libraries\n",
    "import numpy as np\n",
    "import glob\n",
    "import cv2\n",
    "import matplotlib.pyplot as plt\n",
    "from sklearn.decomposition import PCA"
   ]
  },
  {
   "cell_type": "code",
   "execution_count": 5,
   "metadata": {},
   "outputs": [
    {
     "name": "stdout",
     "output_type": "stream",
     "text": [
      "398\n",
      "(200, 200, 3)\n"
     ]
    }
   ],
   "source": [
    "# Loading the images\n",
    "images = [cv2.imread(file) for file in glob.glob(\"SampledPhotos/*.jpg.chip.jpg\")]\n",
    "image_names = [str(file).split('\\\\')[1] for file in glob.glob(\"SampledPhotos/*.jpg.chip.jpg\")]\n",
    "im = np.array(images)\n",
    "\n",
    "print(len(images))\n",
    "print(images[0].shape)"
   ]
  },
  {
   "cell_type": "code",
   "execution_count": 6,
   "metadata": {},
   "outputs": [],
   "source": [
    "# Convert images to 1D arrays, and combine all images in one 2D array\n",
    "big_im = np.zeros([120000,len(images)])\n",
    "for i in range(len(images)):\n",
    "    big_im[:,i] = images[i].reshape(120000)"
   ]
  },
  {
   "cell_type": "code",
   "execution_count": 7,
   "metadata": {},
   "outputs": [
    {
     "name": "stdout",
     "output_type": "stream",
     "text": [
      "(120000,)\n"
     ]
    }
   ],
   "source": [
    "# Get the means of each pixel and subtract mean from every image\n",
    "means = np.mean(big_im, axis=1)\n",
    "print(means.shape)\n",
    "\n",
    "subtracted_mean = (big_im.T - means).T"
   ]
  },
  {
   "cell_type": "code",
   "execution_count": 8,
   "metadata": {},
   "outputs": [
    {
     "name": "stdout",
     "output_type": "stream",
     "text": [
      "(120000, 398)\n",
      "(398, 398)\n"
     ]
    }
   ],
   "source": [
    "# run pca\n",
    "pca = PCA()\n",
    "\n",
    "S = pca.fit_transform(subtracted_mean)\n",
    "print(S.shape)\n",
    "\n",
    "A = pca.components_.T\n",
    "print(A.shape)"
   ]
  },
  {
   "cell_type": "code",
   "execution_count": 9,
   "metadata": {},
   "outputs": [
    {
     "data": {
      "text/plain": [
       "[<matplotlib.lines.Line2D at 0x137d68ae340>]"
      ]
     },
     "execution_count": 9,
     "metadata": {},
     "output_type": "execute_result"
    },
    {
     "data": {
      "image/png": "[encoded data removed]",
      "text/plain": [
       "<Figure size 432x288 with 1 Axes>"
      ]
     },
     "metadata": {
      "needs_background": "light"
     },
     "output_type": "display_data"
    }
   ],
   "source": [
    "# plot variance of PCA components\n",
    "variance = pca.explained_variance_ratio_\n",
    "\n",
    "plt.grid()\n",
    "plt.plot(np.cumsum(variance)*100)"
   ]
  },
  {
   "cell_type": "code",
   "execution_count": 35,
   "metadata": {},
   "outputs": [
    {
     "name": "stderr",
     "output_type": "stream",
     "text": [
      "Clipping input data to the valid range for imshow with RGB data ([0..1] for floats or [0..255] for integers).\n",
      "Clipping input data to the valid range for imshow with RGB data ([0..1] for floats or [0..255] for integers).\n",
      "Clipping input data to the valid range for imshow with RGB data ([0..1] for floats or [0..255] for integers).\n",
      "Clipping input data to the valid range for imshow with RGB data ([0..1] for floats or [0..255] for integers).\n",
      "Clipping input data to the valid range for imshow with RGB data ([0..1] for floats or [0..255] for integers).\n",
      "Clipping input data to the valid range for imshow with RGB data ([0..1] for floats or [0..255] for integers).\n",
      "Clipping input data to the valid range for imshow with RGB data ([0..1] for floats or [0..255] for integers).\n",
      "Clipping input data to the valid range for imshow with RGB data ([0..1] for floats or [0..255] for integers).\n",
      "Clipping input data to the valid range for imshow with RGB data ([0..1] for floats or [0..255] for integers).\n",
      "Clipping input data to the valid range for imshow with RGB data ([0..1] for floats or [0..255] for integers).\n"
     ]
    },
    {
     "data": {
      "image/png": "[encoded data removed]",
      "text/plain": [
       "<Figure size 1080x432 with 10 Axes>"
      ]
     },
     "metadata": {
      "needs_background": "light"
     },
     "output_type": "display_data"
    }
   ],
   "source": [
    "# Convert the components to 200x200x3 image shapes, and plot the first 10\n",
    "\n",
    "pca_im = S[:,0].reshape([200,200,3])\n",
    "pca_ims = S.reshape([200,200,3,len(images)])\n",
    "pca_sub = ((means + S.T).T).reshape([200,200,3,len(images)])\n",
    "    \n",
    "fig = plt.figure(figsize=(15,6))\n",
    "columns = 5\n",
    "rows = 2\n",
    "for i in range(columns*rows):\n",
    "    img = pca_sub[:,:,:,i]\n",
    "    fig.add_subplot(rows, columns, i+1)\n",
    "    plt.imshow(img)\n",
    "plt.show()"
   ]
  },
  {
   "cell_type": "markdown",
   "metadata": {},
   "source": [
    "# 6: Feature Selection"
   ]
  },
  {
   "cell_type": "code",
   "execution_count": 57,
   "metadata": {},
   "outputs": [
    {
     "name": "stdout",
     "output_type": "stream",
     "text": [
      "50\n"
     ]
    }
   ],
   "source": [
    "# Calculate number of features needed to reach threshold\n",
    "# Using our own forward selection method\n",
    "threshold = 0.85\n",
    "\n",
    "for i in range(len(variance)):\n",
    "    \n",
    "    if sum(variance[0:i+1]) >= threshold:\n",
    "        num_features = i + 1\n",
    "        break\n",
    "print(num_features)"
   ]
  },
  {
   "cell_type": "code",
   "execution_count": 58,
   "metadata": {},
   "outputs": [
    {
     "name": "stdout",
     "output_type": "stream",
     "text": [
      "(120000, 50)\n"
     ]
    }
   ],
   "source": [
    "# Extract subset of PC's\n",
    "\n",
    "features = S[:,0:num_features]\n",
    "print(features.shape)"
   ]
  },
  {
   "cell_type": "code",
   "execution_count": null,
   "metadata": {},
   "outputs": [],
   "source": []
  },
  {
   "cell_type": "code",
   "execution_count": null,
   "metadata": {},
   "outputs": [],
   "source": []
  },
  {
   "cell_type": "markdown",
   "metadata": {},
   "source": [
    "# 7: Linear Regression Model"
   ]
  },
  {
   "cell_type": "code",
   "execution_count": 80,
   "metadata": {
    "scrolled": true
   },
   "outputs": [
    {
     "data": {
      "text/html": [
       "<div>\n",
       "<style scoped>\n",
       "    .dataframe tbody tr th:only-of-type {\n",
       "        vertical-align: middle;\n",
       "    }\n",
       "\n",
       "    .dataframe tbody tr th {\n",
       "        vertical-align: top;\n",
       "    }\n",
       "\n",
       "    .dataframe thead th {\n",
       "        text-align: right;\n",
       "    }\n",
       "</style>\n",
       "<table border=\"1\" class=\"dataframe\">\n",
       "  <thead>\n",
       "    <tr style=\"text-align: right;\">\n",
       "      <th></th>\n",
       "      <th>image</th>\n",
       "      <th>score_x</th>\n",
       "      <th>score_y</th>\n",
       "      <th>score_x</th>\n",
       "      <th>score_y</th>\n",
       "      <th>score_x</th>\n",
       "      <th>score_y</th>\n",
       "      <th>score_x</th>\n",
       "      <th>score_y</th>\n",
       "      <th>average</th>\n",
       "    </tr>\n",
       "  </thead>\n",
       "  <tbody>\n",
       "    <tr>\n",
       "      <th>0</th>\n",
       "      <td>20_0_0_20170104230048181.jpg.chip.jpg</td>\n",
       "      <td>0.035245</td>\n",
       "      <td>0.057297</td>\n",
       "      <td>0.078916</td>\n",
       "      <td>0.367870</td>\n",
       "      <td>0.052935</td>\n",
       "      <td>0.083465</td>\n",
       "      <td>0.035031</td>\n",
       "      <td>0.074326</td>\n",
       "      <td>0.098136</td>\n",
       "    </tr>\n",
       "    <tr>\n",
       "      <th>1</th>\n",
       "      <td>20_0_1_20170116010734667.jpg.chip.jpg</td>\n",
       "      <td>0.092742</td>\n",
       "      <td>0.839078</td>\n",
       "      <td>0.878550</td>\n",
       "      <td>0.111018</td>\n",
       "      <td>0.943465</td>\n",
       "      <td>NaN</td>\n",
       "      <td>0.884159</td>\n",
       "      <td>0.909813</td>\n",
       "      <td>0.665546</td>\n",
       "    </tr>\n",
       "    <tr>\n",
       "      <th>2</th>\n",
       "      <td>20_1_0_20170104021334149.jpg.chip.jpg</td>\n",
       "      <td>0.218306</td>\n",
       "      <td>0.035728</td>\n",
       "      <td>0.043450</td>\n",
       "      <td>0.085339</td>\n",
       "      <td>0.068924</td>\n",
       "      <td>0.082492</td>\n",
       "      <td>0.038197</td>\n",
       "      <td>0.083955</td>\n",
       "      <td>0.082049</td>\n",
       "    </tr>\n",
       "    <tr>\n",
       "      <th>3</th>\n",
       "      <td>20_1_0_20170113005610158.jpg.chip.jpg</td>\n",
       "      <td>0.789104</td>\n",
       "      <td>0.865095</td>\n",
       "      <td>0.953187</td>\n",
       "      <td>0.197193</td>\n",
       "      <td>0.908860</td>\n",
       "      <td>0.808310</td>\n",
       "      <td>0.927500</td>\n",
       "      <td>0.118308</td>\n",
       "      <td>0.695945</td>\n",
       "    </tr>\n",
       "    <tr>\n",
       "      <th>4</th>\n",
       "      <td>20_1_2_20170108224234471.jpg.chip.jpg</td>\n",
       "      <td>0.885110</td>\n",
       "      <td>0.994107</td>\n",
       "      <td>0.949461</td>\n",
       "      <td>0.919981</td>\n",
       "      <td>0.989179</td>\n",
       "      <td>0.941248</td>\n",
       "      <td>0.946870</td>\n",
       "      <td>0.939748</td>\n",
       "      <td>0.945713</td>\n",
       "    </tr>\n",
       "  </tbody>\n",
       "</table>\n",
       "</div>"
      ],
      "text/plain": [
       "                                   image   score_x   score_y   score_x  \\\n",
       "0  20_0_0_20170104230048181.jpg.chip.jpg  0.035245  0.057297  0.078916   \n",
       "1  20_0_1_20170116010734667.jpg.chip.jpg  0.092742  0.839078  0.878550   \n",
       "2  20_1_0_20170104021334149.jpg.chip.jpg  0.218306  0.035728  0.043450   \n",
       "3  20_1_0_20170113005610158.jpg.chip.jpg  0.789104  0.865095  0.953187   \n",
       "4  20_1_2_20170108224234471.jpg.chip.jpg  0.885110  0.994107  0.949461   \n",
       "\n",
       "    score_y   score_x   score_y   score_x   score_y   average  \n",
       "0  0.367870  0.052935  0.083465  0.035031  0.074326  0.098136  \n",
       "1  0.111018  0.943465       NaN  0.884159  0.909813  0.665546  \n",
       "2  0.085339  0.068924  0.082492  0.038197  0.083955  0.082049  \n",
       "3  0.197193  0.908860  0.808310  0.927500  0.118308  0.695945  \n",
       "4  0.919981  0.989179  0.941248  0.946870  0.939748  0.945713  "
      ]
     },
     "execution_count": 80,
     "metadata": {},
     "output_type": "execute_result"
    }
   ],
   "source": [
    "# Create a new dataframe with all the image names\n",
    "df2 = pd.DataFrame(image_names)\n",
    "df2.columns = ([\"image\"])\n",
    "\n",
    "# Add the scores for each person to the dataframe\n",
    "for i in df.groupby(\"id\"):\n",
    "    grouped_df = i[1][[\"image\",\"score\"]]\n",
    "    df2 = pd.merge(df2, grouped_df,how=\"left\", on=[\"image\"])\n",
    "\n",
    "    \n",
    "# Take the average score\n",
    "df2['average'] = df2.mean(numeric_only=True, axis=1)\n",
    "df2.head()"
   ]
  },
  {
   "cell_type": "code",
   "execution_count": null,
   "metadata": {},
   "outputs": [],
   "source": []
  },
  {
   "cell_type": "code",
   "execution_count": null,
   "metadata": {},
   "outputs": [],
   "source": []
  },
  {
   "cell_type": "code",
   "execution_count": 81,
   "metadata": {},
   "outputs": [],
   "source": [
    "# https://www.statology.org/principal-components-regression-in-python/\n",
    "\n",
    "import numpy as np\n",
    "import pandas as pd\n",
    "import matplotlib.pyplot as plt\n",
    "from sklearn.preprocessing import scale \n",
    "from sklearn import model_selection\n",
    "from sklearn.model_selection import RepeatedKFold\n",
    "from sklearn.model_selection import train_test_split\n",
    "from sklearn.decomposition import PCA\n",
    "from sklearn.linear_model import LinearRegression\n",
    "from sklearn.metrics import mean_squared_error"
   ]
  },
  {
   "cell_type": "code",
   "execution_count": 108,
   "metadata": {},
   "outputs": [],
   "source": [
    "X = big_im.T\n",
    "y = df2[['average']].to_numpy()\n",
    "\n",
    "X_train,X_test,y_train,y_test = train_test_split(X,y,test_size=0.2,random_state=1)"
   ]
  },
  {
   "cell_type": "code",
   "execution_count": 109,
   "metadata": {},
   "outputs": [
    {
     "data": {
      "text/plain": [
       "0.23069050379682543"
      ]
     },
     "execution_count": 109,
     "metadata": {},
     "output_type": "execute_result"
    }
   ],
   "source": [
    "#scale the training and testing data\n",
    "X_reduced_train = pca.fit_transform(scale(X_train))\n",
    "X_reduced_test = pca.transform(scale(X_test))[:,:num_features]\n",
    "\n",
    "#train PCR model on training data \n",
    "regr = LinearRegression()\n",
    "regr.fit(X_reduced_train[:,:num_features], y_train)\n",
    "\n",
    "#calculate RMSE\n",
    "pred = regr.predict(X_reduced_test)\n",
    "np.sqrt(mean_squared_error(y_test, pred))"
   ]
  },
  {
   "cell_type": "code",
   "execution_count": 111,
   "metadata": {
    "scrolled": false
   },
   "outputs": [
    {
     "name": "stdout",
     "output_type": "stream",
     "text": [
      "For picture 0: predicted [0.54464687] and real asnwer is [0.96310588]\n",
      "For picture 1: predicted [0.38984425] and real asnwer is [0.4003425]\n",
      "For picture 2: predicted [0.97724499] and real asnwer is [0.92071789]\n",
      "For picture 3: predicted [1.02478684] and real asnwer is [0.92613389]\n",
      "For picture 4: predicted [0.90852971] and real asnwer is [0.94844121]\n",
      "For picture 5: predicted [0.3131102] and real asnwer is [0.50679443]\n",
      "For picture 6: predicted [0.46378925] and real asnwer is [0.32652145]\n",
      "For picture 7: predicted [0.8008532] and real asnwer is [0.9533617]\n",
      "For picture 8: predicted [0.66623545] and real asnwer is [0.93422207]\n",
      "For picture 9: predicted [0.21420167] and real asnwer is [0.47397688]\n",
      "For picture 10: predicted [0.62933752] and real asnwer is [0.95249781]\n",
      "For picture 11: predicted [0.73392042] and real asnwer is [0.82121014]\n",
      "For picture 12: predicted [0.4348095] and real asnwer is [0.81762474]\n",
      "For picture 13: predicted [0.95054963] and real asnwer is [0.8334029]\n",
      "For picture 14: predicted [0.66365728] and real asnwer is [0.88543447]\n",
      "For picture 15: predicted [0.65737969] and real asnwer is [0.93413191]\n",
      "For picture 16: predicted [0.3235498] and real asnwer is [0.53634456]\n",
      "For picture 17: predicted [0.72012802] and real asnwer is [0.94722088]\n",
      "For picture 18: predicted [0.59256275] and real asnwer is [0.26161392]\n",
      "For picture 19: predicted [0.81441632] and real asnwer is [0.90190541]\n",
      "For picture 20: predicted [0.65989931] and real asnwer is [0.94542953]\n",
      "For picture 21: predicted [0.34728906] and real asnwer is [0.09524156]\n",
      "For picture 22: predicted [0.60739845] and real asnwer is [0.53411556]\n",
      "For picture 23: predicted [-0.01585324] and real asnwer is [0.053784]\n",
      "For picture 24: predicted [0.37407537] and real asnwer is [0.07067336]\n",
      "For picture 25: predicted [0.73825412] and real asnwer is [0.92087482]\n",
      "For picture 26: predicted [0.36864072] and real asnwer is [0.51361127]\n",
      "For picture 27: predicted [0.60450409] and real asnwer is [0.95460784]\n",
      "For picture 28: predicted [0.93026673] and real asnwer is [0.94571298]\n",
      "For picture 29: predicted [0.61768588] and real asnwer is [0.95263766]\n",
      "For picture 30: predicted [0.53166771] and real asnwer is [0.11818245]\n",
      "For picture 31: predicted [0.73165263] and real asnwer is [0.93594768]\n",
      "For picture 32: predicted [0.19463689] and real asnwer is [0.08857489]\n",
      "For picture 33: predicted [0.72488156] and real asnwer is [0.96673848]\n",
      "For picture 34: predicted [0.56644086] and real asnwer is [0.53413305]\n",
      "For picture 35: predicted [0.49163343] and real asnwer is [0.16591892]\n",
      "For picture 36: predicted [0.32559645] and real asnwer is [0.39770167]\n",
      "For picture 37: predicted [0.5677752] and real asnwer is [0.1468292]\n",
      "For picture 38: predicted [0.55767785] and real asnwer is [0.80581288]\n",
      "For picture 39: predicted [0.20131019] and real asnwer is [0.07505905]\n",
      "For picture 40: predicted [0.20553991] and real asnwer is [0.07237078]\n",
      "For picture 41: predicted [0.54805783] and real asnwer is [0.11193928]\n",
      "For picture 42: predicted [1.14766185] and real asnwer is [0.84600968]\n",
      "For picture 43: predicted [0.77370821] and real asnwer is [0.92037499]\n",
      "For picture 44: predicted [0.51162916] and real asnwer is [0.59105561]\n",
      "For picture 45: predicted [0.31759332] and real asnwer is [0.09450966]\n",
      "For picture 46: predicted [0.85840864] and real asnwer is [0.96684096]\n",
      "For picture 47: predicted [0.65209125] and real asnwer is [0.94547664]\n",
      "For picture 48: predicted [0.13929497] and real asnwer is [0.06174536]\n",
      "For picture 49: predicted [0.35795423] and real asnwer is [0.30142242]\n",
      "For picture 50: predicted [0.25915932] and real asnwer is [0.07800628]\n",
      "For picture 51: predicted [0.33000994] and real asnwer is [0.25853428]\n",
      "For picture 52: predicted [0.74203747] and real asnwer is [0.79831711]\n",
      "For picture 53: predicted [0.51035018] and real asnwer is [0.2971494]\n",
      "For picture 54: predicted [0.43881117] and real asnwer is [0.07142401]\n",
      "For picture 55: predicted [0.83199579] and real asnwer is [0.94962684]\n",
      "For picture 56: predicted [0.84415716] and real asnwer is [0.95629808]\n",
      "For picture 57: predicted [0.0305308] and real asnwer is [0.07239685]\n",
      "For picture 58: predicted [0.01938318] and real asnwer is [0.15879085]\n",
      "For picture 59: predicted [0.59778219] and real asnwer is [0.09081716]\n",
      "For picture 60: predicted [0.11730665] and real asnwer is [0.07775452]\n",
      "For picture 61: predicted [0.10839273] and real asnwer is [0.0760893]\n",
      "For picture 62: predicted [0.75942445] and real asnwer is [0.93667702]\n",
      "For picture 63: predicted [0.58480301] and real asnwer is [0.9343658]\n",
      "For picture 64: predicted [1.01386551] and real asnwer is [0.94998656]\n",
      "For picture 65: predicted [0.73105811] and real asnwer is [0.91189628]\n",
      "For picture 66: predicted [0.46571367] and real asnwer is [0.64077879]\n",
      "For picture 67: predicted [0.96824699] and real asnwer is [0.82036286]\n",
      "For picture 68: predicted [0.76761149] and real asnwer is [0.75617875]\n",
      "For picture 69: predicted [0.37105063] and real asnwer is [0.10410679]\n",
      "For picture 70: predicted [1.04511719] and real asnwer is [0.94725515]\n",
      "For picture 71: predicted [0.63810014] and real asnwer is [0.92927662]\n",
      "For picture 72: predicted [0.41913025] and real asnwer is [0.72293233]\n",
      "For picture 73: predicted [0.72537882] and real asnwer is [0.8506012]\n",
      "For picture 74: predicted [0.45561705] and real asnwer is [0.60781681]\n",
      "For picture 75: predicted [0.44115326] and real asnwer is [0.51941894]\n",
      "For picture 76: predicted [0.3504468] and real asnwer is [0.78452649]\n",
      "For picture 77: predicted [0.0437599] and real asnwer is [0.05371495]\n",
      "For picture 78: predicted [0.77775178] and real asnwer is [0.95410935]\n",
      "For picture 79: predicted [0.62736675] and real asnwer is [0.10523746]\n"
     ]
    }
   ],
   "source": [
    "for i in range(len(pred)):\n",
    "    print(f\"For picture {i}: predicted {pred[i]} and real asnwer is {y_test[i]}\")"
   ]
  },
  {
   "cell_type": "code",
   "execution_count": null,
   "metadata": {},
   "outputs": [],
   "source": []
  },
  {
   "cell_type": "markdown",
   "metadata": {},
   "source": [
    "# 8: Generate samples"
   ]
  },
  {
   "cell_type": "code",
   "execution_count": null,
   "metadata": {},
   "outputs": [],
   "source": []
  },
  {
   "cell_type": "code",
   "execution_count": null,
   "metadata": {},
   "outputs": [],
   "source": []
  },
  {
   "cell_type": "code",
   "execution_count": null,
   "metadata": {},
   "outputs": [],
   "source": []
  },
  {
   "cell_type": "markdown",
   "metadata": {},
   "source": [
    "# 9"
   ]
  },
  {
   "cell_type": "code",
   "execution_count": null,
   "metadata": {},
   "outputs": [],
   "source": []
  },
  {
   "cell_type": "code",
   "execution_count": null,
   "metadata": {},
   "outputs": [],
   "source": []
  },
  {
   "cell_type": "markdown",
   "metadata": {},
   "source": [
    "# 10"
   ]
  },
  {
   "cell_type": "code",
   "execution_count": null,
   "metadata": {},
   "outputs": [],
   "source": []
  },
  {
   "cell_type": "code",
   "execution_count": null,
   "metadata": {},
   "outputs": [],
   "source": []
  },
  {
   "cell_type": "code",
   "execution_count": null,
   "metadata": {},
   "outputs": [],
   "source": []
  }
 ],
 "metadata": {
  "colab": {
   "collapsed_sections": [],
   "name": "Cognitive Modeling - Project 1.ipynb",
   "provenance": []
  },
  "kernelspec": {
   "display_name": "Python 3 (ipykernel)",
   "language": "python",
   "name": "python3"
  },
  "language_info": {
   "codemirror_mode": {
    "name": "ipython",
    "version": 3
   },
   "file_extension": ".py",
   "mimetype": "text/x-python",
   "name": "python",
   "nbconvert_exporter": "python",
   "pygments_lexer": "ipython3",
   "version": "3.8.3"
  }
 },
 "nbformat": 4,
 "nbformat_minor": 2
}
